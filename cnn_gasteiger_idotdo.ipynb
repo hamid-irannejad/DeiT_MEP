{
 "cells": [
  {
   "cell_type": "code",
   "execution_count": 1,
   "id": "0f1b3047-721b-4d7e-9bbd-5393bdca6e95",
   "metadata": {},
   "outputs": [],
   "source": [
    "import numpy as np\n",
    "import seaborn as sns\n",
    "from sklearn.model_selection import train_test_split, KFold\n",
    "from sklearn.metrics import confusion_matrix\n",
    "from tqdm import trange\n",
    "import matplotlib.pyplot as plt"
   ]
  },
  {
   "cell_type": "code",
   "execution_count": 2,
   "id": "fbca9ee3-07ca-4607-a984-2d5e9e44c12e",
   "metadata": {},
   "outputs": [],
   "source": [
    "import torch\n",
    "import torch.nn as nn\n",
    "import torch.optim as optim\n",
    "from torch.utils.data import DataLoader, ConcatDataset, random_split, Subset\n",
    "from torchvision import datasets, transforms, models\n",
    "import os\n",
    "from torch import device"
   ]
  },
  {
   "cell_type": "code",
   "execution_count": 3,
   "id": "64b1dc96-e77b-4e32-b22e-52a80344014b",
   "metadata": {},
   "outputs": [
    {
     "name": "stdout",
     "output_type": "stream",
     "text": [
      "Using device: cuda\n"
     ]
    }
   ],
   "source": [
    "# Check if GPU is available, otherwise use CPU\n",
    "device = torch.device(\"cuda\" if torch.cuda.is_available() else \"cpu\")\n",
    "print(f\"Using device: {device}\")"
   ]
  },
  {
   "cell_type": "code",
   "execution_count": 4,
   "id": "443fc8a6-64cf-4c2e-a9e0-96d37a1e2ccc",
   "metadata": {},
   "outputs": [],
   "source": [
    "# Define image transformations (preprocessing for CNN)\n",
    "transform = transforms.Compose([\n",
    "    transforms.Resize((224, 224)),  # Resize images\n",
    "    transforms.ToTensor(),  # Convert to tensor\n",
    "    transforms.Normalize(mean=[0.485, 0.456, 0.406], std=[0.229, 0.224, 0.225]),  # Normalize for pretrained models\n",
    "])"
   ]
  },
  {
   "cell_type": "code",
   "execution_count": 6,
   "id": "277bf4ab-d8da-45a3-9157-ded8c484b989",
   "metadata": {},
   "outputs": [],
   "source": [
    "horizontal_flip_transform = transforms.Compose([transforms.Resize((224, 224)), transforms.RandomHorizontalFlip(p=1.0), transforms.ToTensor(), transforms.Normalize(mean=[0.485, 0.456, 0.406], std=[0.229, 0.224, 0.225])])\n",
    "vertical_flip_transform = transforms.Compose([transforms.Resize((224, 224)), transforms.RandomVerticalFlip(p=1.0), transforms.ToTensor(), transforms.Normalize(mean=[0.485, 0.456, 0.406], std=[0.229, 0.224, 0.225])])\n",
    "random_rotatation_transform = transforms.Compose([transforms.Resize((224, 224)), transforms.RandomRotation(degrees=25), transforms.ToTensor(), transforms.Normalize(mean=[0.485, 0.456, 0.406], std=[0.229, 0.224, 0.225])])"
   ]
  },
  {
   "cell_type": "code",
   "execution_count": 7,
   "id": "e4a27c85-a7c6-442f-8f5c-7fe4ccfe94bc",
   "metadata": {},
   "outputs": [],
   "source": [
    "# Set up dataset and dataloaders\n",
    "# Assuming images are organized in folders: 'root_folder/class1/', 'root_folder/class2/', etc.\n",
    "data_dir = './test_set/maps/'  # Path to your image folder\n",
    "train_data_1 = datasets.ImageFolder(root=data_dir, transform=horizontal_flip_transform)\n",
    "train_data_2 = datasets.ImageFolder(root=data_dir, transform=vertical_flip_transform)\n",
    "train_data_3 = datasets.ImageFolder(root=data_dir, transform=random_rotatation_transform)\n",
    "train_data_4 = datasets.ImageFolder(root=data_dir, transform=transform)\n",
    "augmented_dataset = ConcatDataset([train_data_1, train_data_2, train_data_3, train_data_4])\n",
    "train_size = int(0.7 * len(augmented_dataset))\n",
    "val_size = int(0.2 * len(augmented_dataset))\n",
    "test_size = len(augmented_dataset) - (train_size + val_size)\n",
    "generator1 = torch.Generator().manual_seed(42)\n",
    "train_dataset, val_dataset, test_dataset = random_split(augmented_dataset, [train_size, val_size, test_size], generator=generator1)"
   ]
  },
  {
   "cell_type": "code",
   "execution_count": 8,
   "id": "0a49816f-e6b8-4b7f-8c71-a7f7db85820f",
   "metadata": {},
   "outputs": [],
   "source": [
    "train_loader = DataLoader(train_dataset, batch_size=32, shuffle=True, num_workers=4)\n",
    "val_loader = DataLoader(val_dataset, batch_size=32, shuffle=False, num_workers=4)\n",
    "test_loader = DataLoader(test_dataset, batch_size=32, shuffle=False, num_workers=4)"
   ]
  },
  {
   "cell_type": "code",
   "execution_count": null,
   "id": "27b185be-94a0-4dd3-9828-1fbb0e46a0c2",
   "metadata": {},
   "outputs": [],
   "source": [
    "# Create the model\n",
    "model = nn.Sequential(nn.Conv2d(3, 8, kernel_size=3, stride=2),  #(224-3)/2 + 1 = 111, out>>>111*111*8\n",
    "                      nn.BatchNorm2d(8),\n",
    "                      nn.ReLU(),\n",
    "                      nn.MaxPool2d(kernel_size=2, stride=1),     #(111-2)/1 + 1 = 110, out>>>110*110*8\n",
    "                      nn.Conv2d(8, 32, kernel_size=3, padding=1),  #(110-3+2)/1 + 1 = 110, out>>>110*110*32\n",
    "                      nn.BatchNorm2d(32),\n",
    "                      nn.ReLU(),\n",
    "                      nn.MaxPool2d(kernel_size=2, stride=1),    #(110-2)/1 + 1 = 109, out>>>109*109*32\n",
    "                      nn.Conv2d(32, 128, kernel_size=3, padding=1),  #(109-3+2)/1 + 1 = 109, out>>>109*109*128\n",
    "                      nn.BatchNorm2d(128),\n",
    "                      nn.Flatten(),  #109*109*128= 1520768\n",
    "                      nn.ReLU(),\n",
    "                      nn.Linear(1520768, 16),\n",
    "                      nn.BatchNorm1d(16),\n",
    "                      #nn.LayerNorm(16),\n",
    "                      nn.ReLU(),\n",
    "                      nn.Linear(16, 4)).to(device)\n",
    "\n",
    "\n",
    "# Setup the optimizer\n",
    "optimizer = optim.Adam(model.parameters(), lr=1e-3)\n",
    "scheduler = optim.lr_scheduler.ReduceLROnPlateau(optimizer, 'min', patience=3, factor=0.1)\n",
    "criterion = nn.CrossEntropyLoss()\n",
    "model.to(device)"
   ]
  },
  {
   "cell_type": "code",
   "execution_count": 13,
   "id": "ecf3ece8-dbb9-4431-bf5f-39b047d6c00a",
   "metadata": {},
   "outputs": [
    {
     "name": "stdout",
     "output_type": "stream",
     "text": [
      "Total number of parameters: 24372292\n"
     ]
    }
   ],
   "source": [
    "total_params = sum(p.numel() for p in model.parameters())\n",
    "print(f\"Total number of parameters: {total_params}\")"
   ]
  },
  {
   "cell_type": "code",
   "execution_count": null,
   "id": "30eb429f-bfb4-4d80-b4b0-1f158f581909",
   "metadata": {},
   "outputs": [],
   "source": [
    "%%time\n",
    "num_epochs = 25\n",
    "\n",
    "best_val_loss = float('inf')\n",
    "patience = 5\n",
    "counter = 0\n",
    "\n",
    "# Store the results for each fold\n",
    "fold_results = []\n",
    "\n",
    "# Track performance for this fold\n",
    "fold_train_loss = []\n",
    "fold_train_accuracy = []\n",
    "fold_val_loss = []\n",
    "fold_val_accuracy = []\n",
    "\n",
    "\n",
    "for epoch in range(num_epochs):\n",
    "    model.train()  # Set model to training mode\n",
    "    running_loss = 0.0\n",
    "    correct = 0\n",
    "    total = 0\n",
    "\n",
    "    for inputs, labels in train_loader:\n",
    "        inputs, labels = inputs.to(device), labels.to(device)\n",
    "\n",
    "        # Zero gradients\n",
    "        optimizer.zero_grad()\n",
    "\n",
    "        # Forward pass\n",
    "        outputs = model(inputs)\n",
    "\n",
    "        # Calculate loss\n",
    "        loss = criterion(outputs, labels)\n",
    "\n",
    "        # Backward pass and optimization\n",
    "        loss.backward()\n",
    "        optimizer.step()\n",
    "\n",
    "        running_loss += loss.item()\n",
    "\n",
    "        # Calculate accuracy\n",
    "        _, predicted = torch.max(outputs, 1)\n",
    "        total += labels.size(0)\n",
    "        correct += (predicted == labels).sum().item()\n",
    "\n",
    "    # Calculate average training loss and accuracy\n",
    "    train_loss = running_loss / len(train_loader)\n",
    "    train_accuracy = correct / total * 100\n",
    "    fold_train_loss.append(train_loss)\n",
    "    fold_train_accuracy.append(train_accuracy)\n",
    "\n",
    "    # Validation loop for this fold\n",
    "    model.eval()  # Set model to evaluation mode\n",
    "    running_val_loss = 0.0\n",
    "    correct = 0\n",
    "    total = 0\n",
    "\n",
    "    with torch.no_grad():  # Disable gradients during validation\n",
    "        for inputs, labels in val_loader:\n",
    "            inputs, labels = inputs.to(device), labels.to(device)\n",
    "\n",
    "            # Forward pass\n",
    "            outputs = model(inputs)\n",
    "\n",
    "            # Calculate loss\n",
    "            loss = criterion(outputs, labels)\n",
    "\n",
    "            running_val_loss += loss.item()\n",
    "\n",
    "            # Calculate accuracy\n",
    "            _, predicted = torch.max(outputs, 1)\n",
    "            total += labels.size(0)\n",
    "            correct += (predicted == labels).sum().item()\n",
    "\n",
    "    # Calculate average validation loss and accuracy\n",
    "    val_loss = running_val_loss / len(test_loader)\n",
    "    val_accuracy = correct / total * 100\n",
    "    fold_val_loss.append(val_loss)\n",
    "    fold_val_accuracy.append(val_accuracy)\n",
    "\n",
    "    scheduler.step(val_loss)\n",
    "\n",
    "    print(f\"Epoch {epoch+1}/{num_epochs}, Train Loss: {train_loss:.4f}, Train Accuracy: {train_accuracy:.2f}%, \"\n",
    "            f\"Val Loss: {val_loss:.4f}, Val Accuracy: {val_accuracy:.2f}%\")\n",
    "\n",
    "    if val_loss < best_val_loss:\n",
    "        best_val_loss = val_loss\n",
    "        counter = 0\n",
    "        torch.save(model.state_dict(), 'cnn_gasteiger_1.pth')\n",
    "        print('The best model was saved.')\n",
    "    else:\n",
    "        counter += 1\n",
    "        if counter >= patience:\n",
    "            print(\"Early stopping\")\n",
    "            break"
   ]
  },
  {
   "cell_type": "code",
   "execution_count": null,
   "id": "e01b3394-7843-44d6-8367-584303fa7b29",
   "metadata": {},
   "outputs": [],
   "source": [
    "# Plot Training and Validation Loss/Accuracy\n",
    "epochs = range(1, 10 + 1)\n",
    "\n",
    "plt.figure(figsize=(12, 6))\n",
    "# Loss Plot\n",
    "plt.subplot(1, 2, 1)\n",
    "plt.plot(epochs, fold_train_loss, label=\"Training Loss\", marker=\"o\")\n",
    "plt.plot(epochs, fold_val_loss, label=\"Validation Loss\", marker=\"o\")\n",
    "plt.title(\"Training and Validation Loss\")\n",
    "plt.xlabel(\"Epochs\")\n",
    "plt.ylabel(\"Loss\")\n",
    "plt.legend()\n",
    "\n",
    "# Accuracy Plot\n",
    "plt.subplot(1, 2, 2)\n",
    "plt.plot(epochs, fold_train_accuracy, label=\"Training Accuracy\", marker=\"o\")\n",
    "plt.plot(epochs, fold_val_accuracy, label=\"Validation Accuracy\", marker=\"o\")\n",
    "plt.title(\"Training and Validation Accuracy\")\n",
    "plt.xlabel(\"Epochs\")\n",
    "plt.ylabel(\"Accuracy (%)\")\n",
    "plt.legend()\n",
    "\n",
    "plt.tight_layout()\n",
    "plt.show()\n",
    "\n",
    "print(\"Fine-tuning complete!\")"
   ]
  },
  {
   "cell_type": "code",
   "execution_count": null,
   "id": "9266b4ff-fcde-4f9c-b4a2-fff1371deee6",
   "metadata": {},
   "outputs": [],
   "source": [
    "#To load the saved weights into the model architecture:\n",
    "model.load_state_dict(torch.load(\"./cnn_gasteiger.pth\")) "
   ]
  },
  {
   "cell_type": "code",
   "execution_count": 17,
   "id": "574de24f-64df-4348-8434-aee7521b73a4",
   "metadata": {},
   "outputs": [],
   "source": [
    "def train_epoch(model, dataloader, loss_fn, optimizer, device):\n",
    "    model.train()\n",
    "    train_loss = 0.\n",
    "    train_acc = 0.\n",
    "    for images, labels in dataloader:\n",
    "        images, labels = images.to(device), labels.to(device)\n",
    "        optimizer.zero_grad()\n",
    "        logits = model(images)\n",
    "        loss = loss_fn(logits, labels)\n",
    "        loss.backward()\n",
    "        optimizer.step()\n",
    "        train_loss += loss.item()\n",
    "        train_acc += (logits.argmax(dim=1) == labels).sum().item()\n",
    "    train_loss /= len(dataloader)\n",
    "    train_acc /= len(dataloader.dataset)\n",
    "    return train_loss, 100 * train_acc\n",
    "\n",
    "def train_model(model, loader, optimizer, n_epochs, device= device):\n",
    "    losses, accuracies = np.empty(n_epochs), np.empty(n_epochs)\n",
    "    loss_fn = nn.CrossEntropyLoss()\n",
    "    for i in (pbar := trange(n_epochs)):\n",
    "        loss, acc = train_epoch(model, loader, loss_fn, optimizer, device)\n",
    "        losses[i], accuracies[i] = loss, acc\n",
    "        pbar.set_description(f'Loss: {loss:.3f} | Accuracy: {acc:.2f}% ')\n",
    "    return losses, accuracies"
   ]
  },
  {
   "cell_type": "code",
   "execution_count": 18,
   "id": "3f97f5c3-b0cd-4c4a-8c26-00728dad73a7",
   "metadata": {},
   "outputs": [],
   "source": [
    "def test_model(model, loader):\n",
    "    model.eval()\n",
    "    acc = 0.\n",
    "    y_test, y_prediction =[], []\n",
    "    with torch.no_grad():\n",
    "        for images, labels in loader:\n",
    "            images, labels = images.to(device), labels.to(device)\n",
    "            logits = model(images)\n",
    "            pred = logits.argmax(dim=1)\n",
    "            acc += (pred == labels).sum().item()\n",
    "            y_test.extend(labels.cpu().numpy())\n",
    "            y_prediction.extend(pred.cpu().numpy())\n",
    "    size = len(loader.dataset)\n",
    "    acc = 100 * acc / size\n",
    "    print(f'Test accuracy on {size} test samples is {acc:.2f}%')\n",
    "    return y_test, y_prediction"
   ]
  },
  {
   "cell_type": "code",
   "execution_count": null,
   "id": "8a457010-2a4a-4ec0-aa98-4c6a2e8b32cd",
   "metadata": {},
   "outputs": [],
   "source": [
    "# Train the model\n",
    "results = train_model(model, train_loader, optimizer, n_epochs=10)\n",
    "\n",
    "# Plot the loss curve and accuracies\n",
    "plot_results(*results)"
   ]
  },
  {
   "cell_type": "code",
   "execution_count": 19,
   "id": "91e6d7a3-1bbb-470a-96fe-8ff6e99ca925",
   "metadata": {},
   "outputs": [],
   "source": [
    "class_names = {0: 'AA', 1: 'AI', 2: 'IA', 3: 'II'}\n",
    "kept_classes = [0, 1, 2, 3]"
   ]
  },
  {
   "cell_type": "code",
   "execution_count": 20,
   "id": "0ed9f811-330f-45e8-ba56-c8a15b028d23",
   "metadata": {},
   "outputs": [],
   "source": [
    "def plot_confusion_matrix(y_true, y_pred, class_names, kept_classes):\n",
    "    dim = len(kept_classes)\n",
    "    labels = [class_names[i] for i in kept_classes]\n",
    "    # Plot the confusion matrix\n",
    "    conf_mat = confusion_matrix(y_true, y_pred)\n",
    "    norm_conf_mat = conf_mat / np.sum(conf_mat, axis=1)\n",
    "    # plot the matrix\n",
    "    fig, ax = plt.subplots()\n",
    "    plt.imshow(norm_conf_mat)\n",
    "    plt.title('Confusion Matrix')\n",
    "    plt.xlabel('Predictions')\n",
    "    plt.ylabel('Labels')\n",
    "    plt.xticks(range(dim), labels, rotation=45)\n",
    "    plt.yticks(range(dim), labels)\n",
    "    plt.colorbar()\n",
    "    # Put number of each cell in plot\n",
    "    for i in range(dim):\n",
    "        for j in range(dim):\n",
    "            c = conf_mat[j, i]\n",
    "            color = 'black' if c > 500 else 'white'\n",
    "            ax.text(i, j, str(int(c)), va='center', ha='center', color=color)\n",
    "    plt.show()"
   ]
  },
  {
   "cell_type": "code",
   "execution_count": 21,
   "id": "71cc52a4-ea51-46e7-85e4-4c710d5bb287",
   "metadata": {},
   "outputs": [
    {
     "name": "stdout",
     "output_type": "stream",
     "text": [
      "Test accuracy on 350 test samples is 67.43%\n"
     ]
    },
    {
     "data": {
      "image/png": "[encoded data removed]",
      "text/plain": [
       "<Figure size 640x480 with 2 Axes>"
      ]
     },
     "metadata": {},
     "output_type": "display_data"
    }
   ],
   "source": [
    "# Test the model\n",
    "y_test, y_pred = test_model(model, test_loader)\n",
    "\n",
    "# Plot the confusion matrix\n",
    "plot_confusion_matrix(y_test, y_pred, class_names, kept_classes)"
   ]
  },
  {
   "cell_type": "code",
   "execution_count": 22,
   "id": "273f533e-6779-486c-8c51-ae141179005d",
   "metadata": {},
   "outputs": [],
   "source": [
    "from sklearn.metrics import classification_report"
   ]
  },
  {
   "cell_type": "code",
   "execution_count": 23,
   "id": "36da372e-2405-4f62-bdbc-f64d519d079d",
   "metadata": {},
   "outputs": [
    {
     "name": "stdout",
     "output_type": "stream",
     "text": [
      "              precision    recall  f1-score   support\n",
      "\n",
      "           0       0.68      0.77      0.72        81\n",
      "           1       0.64      0.47      0.54        72\n",
      "           2       0.52      0.33      0.41        42\n",
      "           3       0.70      0.81      0.75       155\n",
      "\n",
      "    accuracy                           0.67       350\n",
      "   macro avg       0.64      0.60      0.61       350\n",
      "weighted avg       0.66      0.67      0.66       350\n",
      "\n"
     ]
    }
   ],
   "source": [
    "print(classification_report(y_test, y_pred))"
   ]
  },
  {
   "cell_type": "code",
   "execution_count": 25,
   "id": "66f252e7-a16f-4541-9ddb-a2befd72b854",
   "metadata": {},
   "outputs": [
    {
     "name": "stdout",
     "output_type": "stream",
     "text": [
      "Test Loss: 0.8944, Test Accuracy: 67.60%\n"
     ]
    }
   ],
   "source": [
    "# Switch the model to evaluation mode\n",
    "model.eval()  # Set model to evaluation mode\n",
    "running_loss = 0.0\n",
    "correct = 0\n",
    "total = 0\n",
    "\n",
    "# Disable gradient calculation for validation/testing\n",
    "with torch.no_grad():\n",
    "    for inputs, labels in test_loader:\n",
    "        # Move inputs and labels to GPU if available\n",
    "        inputs, labels = inputs.to(device), labels.to(device)\n",
    "        \n",
    "        # Forward pass\n",
    "        outputs = model(inputs)\n",
    "        \n",
    "        # Calculate loss\n",
    "        loss = criterion(outputs, labels)\n",
    "        \n",
    "        running_loss += loss.item()\n",
    "        \n",
    "        # Calculate accuracy\n",
    "        _, predicted = torch.max(outputs, 1)\n",
    "        total += labels.size(0)\n",
    "        correct += (predicted == labels).sum().item()\n",
    "\n",
    "# Print test statistics\n",
    "test_loss = running_loss / len(test_loader)\n",
    "test_accuracy = correct / total * 100\n",
    "print(f\"Test Loss: {test_loss:.4f}, Test Accuracy: {test_accuracy:.2f}%\")\n"
   ]
  }
 ],
 "metadata": {
  "kernelspec": {
   "display_name": "Python 3 (ipykernel)",
   "language": "python",
   "name": "python3"
  },
  "language_info": {
   "codemirror_mode": {
    "name": "ipython",
    "version": 3
   },
   "file_extension": ".py",
   "mimetype": "text/x-python",
   "name": "python",
   "nbconvert_exporter": "python",
   "pygments_lexer": "ipython3",
   "version": "3.12.2"
  }
 },
 "nbformat": 4,
 "nbformat_minor": 5
}
