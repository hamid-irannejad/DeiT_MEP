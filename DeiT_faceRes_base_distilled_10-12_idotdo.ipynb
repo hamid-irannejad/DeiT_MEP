{
 "cells": [
  {
   "cell_type": "code",
   "execution_count": 1,
   "id": "dd202026-a12d-46b6-b762-a0cbe9bb69bf",
   "metadata": {},
   "outputs": [],
   "source": [
    "import matplotlib.pyplot as plt\n",
    "import seaborn as sns\n",
    "from sklearn.metrics import precision_score, recall_score, f1_score, confusion_matrix, classification_report"
   ]
  },
  {
   "cell_type": "code",
   "execution_count": 2,
   "id": "c6c94ec3-944a-444e-ab33-77c444cc3e4b",
   "metadata": {
    "scrolled": true
   },
   "outputs": [
    {
     "name": "stderr",
     "output_type": "stream",
     "text": [
      "2025-05-06 23:09:02.581920: I tensorflow/core/util/port.cc:153] oneDNN custom operations are on. You may see slightly different numerical results due to floating-point round-off errors from different computation orders. To turn them off, set the environment variable `TF_ENABLE_ONEDNN_OPTS=0`.\n",
      "2025-05-06 23:09:02.660579: I tensorflow/core/platform/cpu_feature_guard.cc:210] This TensorFlow binary is optimized to use available CPU instructions in performance-critical operations.\n",
      "To enable the following instructions: SSE4.1 SSE4.2 AVX AVX2 AVX_VNNI FMA, in other operations, rebuild TensorFlow with the appropriate compiler flags.\n"
     ]
    }
   ],
   "source": [
    "import torch\n",
    "import torch.nn as nn\n",
    "from torch.utils.data import DataLoader, random_split, ConcatDataset\n",
    "from torchvision import datasets, transforms\n",
    "from transformers import DeiTForImageClassification, DeiTConfig, AutoModelForImageClassification\n",
    "import numpy as np"
   ]
  },
  {
   "cell_type": "code",
   "execution_count": 3,
   "id": "360ff8ed-99a6-4301-b5e5-c1837f6a4287",
   "metadata": {},
   "outputs": [
    {
     "name": "stdout",
     "output_type": "stream",
     "text": [
      "cuda\n"
     ]
    }
   ],
   "source": [
    "# Set device\n",
    "device = torch.device(\"cuda\" if torch.cuda.is_available() else \"cpu\")\n",
    "print(device)"
   ]
  },
  {
   "cell_type": "code",
   "execution_count": 4,
   "id": "b0b22a7a-c99b-40b5-9bf6-cc1a3b2b90a3",
   "metadata": {},
   "outputs": [],
   "source": [
    "# Define image transformations (preprocessing for CNN)\n",
    "transform = transforms.Compose([\n",
    "    transforms.Resize((224, 224)),  # Resize images\n",
    "    transforms.ToTensor(),  # Convert to tensor\n",
    "    transforms.Normalize(mean=[0.485, 0.456, 0.406], std=[0.229, 0.224, 0.225]),  # Normalize for pretrained models\n",
    "])"
   ]
  },
  {
   "cell_type": "code",
   "execution_count": 5,
   "id": "bfb4dd14-9c6c-4c8a-af3f-147e5d3be249",
   "metadata": {},
   "outputs": [],
   "source": [
    "horizontal_flip_transform = transforms.Compose([transforms.Resize((224, 224)), transforms.RandomHorizontalFlip(p=1.0), transforms.ToTensor(), transforms.Normalize(mean=[0.485, 0.456, 0.406], std=[0.229, 0.224, 0.225])])\n",
    "vertical_flip_transform = transforms.Compose([transforms.Resize((224, 224)), transforms.RandomVerticalFlip(p=1.0), transforms.ToTensor(), transforms.Normalize(mean=[0.485, 0.456, 0.406], std=[0.229, 0.224, 0.225])])\n",
    "random_rotatation_transform = transforms.Compose([transforms.Resize((224, 224)), transforms.RandomRotation(degrees=25), transforms.ToTensor(), transforms.Normalize(mean=[0.485, 0.456, 0.406], std=[0.229, 0.224, 0.225])])"
   ]
  },
  {
   "cell_type": "code",
   "execution_count": 6,
   "id": "6ac6e903-384c-4031-9af1-ae96f92fc894",
   "metadata": {},
   "outputs": [],
   "source": [
    "# Set up dataset and dataloaders\n",
    "# Assuming images are organized in folders: 'root_folder/class1/', 'root_folder/class2/', etc.\n",
    "data_dir = './maps_git/'  # Path to your image folder\n",
    "train_data_1 = datasets.ImageFolder(root=data_dir, transform=horizontal_flip_transform)\n",
    "train_data_2 = datasets.ImageFolder(root=data_dir, transform=vertical_flip_transform)\n",
    "train_data_3 = datasets.ImageFolder(root=data_dir, transform=random_rotatation_transform)\n",
    "train_data_4 = datasets.ImageFolder(root=data_dir, transform=transform)\n",
    "augmented_dataset = ConcatDataset([train_data_1, train_data_2, train_data_3, train_data_4])\n",
    "train_size = int(0.7 * len(augmented_dataset))\n",
    "val_size = int(0.2 * len(augmented_dataset))\n",
    "test_size = len(augmented_dataset) - (train_size + val_size)\n",
    "generator1 = torch.Generator().manual_seed(42)\n",
    "train_dataset, val_dataset, test_dataset = random_split(augmented_dataset, [train_size, val_size, test_size], generator=generator1)"
   ]
  },
  {
   "cell_type": "code",
   "execution_count": 7,
   "id": "573bf3e6-5acc-455d-9c8a-71604ca400c3",
   "metadata": {},
   "outputs": [],
   "source": [
    "train_loader = DataLoader(train_dataset, batch_size=64, shuffle=True, num_workers=4)\n",
    "val_loader = DataLoader(val_dataset, batch_size=64, shuffle=False, num_workers=4)\n",
    "test_loader = DataLoader(test_dataset, batch_size=64, shuffle=False, num_workers=4)"
   ]
  },
  {
   "cell_type": "code",
   "execution_count": 10,
   "id": "deb63c02-9f4a-4d5a-968f-54733b3716f9",
   "metadata": {},
   "outputs": [],
   "source": [
    "dataset = datasets.ImageFolder(root=data_dir, transform=None)"
   ]
  },
  {
   "cell_type": "code",
   "execution_count": 11,
   "id": "41648ced-d99c-46c5-9f66-29b8558c6620",
   "metadata": {},
   "outputs": [
    {
     "data": {
      "text/plain": [
       "['AA', 'AI', 'IA', 'II']"
      ]
     },
     "execution_count": 11,
     "metadata": {},
     "output_type": "execute_result"
    }
   ],
   "source": [
    "dataset.classes"
   ]
  },
  {
   "cell_type": "code",
   "execution_count": null,
   "id": "301a670b-d83e-42a0-900f-e18d4089fce8",
   "metadata": {},
   "outputs": [],
   "source": [
    "# Load DeiT Pre-trained Model\n",
    "model = torch.hub.load('facebookresearch/deit:main',\n",
    "                           'deit_base_distilled_patch16_224', pretrained=True)"
   ]
  },
  {
   "cell_type": "code",
   "execution_count": null,
   "id": "aca567ce-a6a9-4be5-bbfb-bb07120bc245",
   "metadata": {},
   "outputs": [],
   "source": [
    "num_classes = 4  # Set your number of classes\n",
    "\n",
    "# Replace classification head\n",
    "model.head = nn.Linear(model.head.in_features, num_classes)\n",
    "\n",
    "# Replace distillation head\n",
    "model.head_dist = nn.Linear(model.head_dist.in_features, num_classes)\n",
    "model.to(device)"
   ]
  },
  {
   "cell_type": "code",
   "execution_count": null,
   "id": "192033e9-6dee-4e82-8522-5bc84c6deda8",
   "metadata": {},
   "outputs": [],
   "source": [
    "# Freeze Layers 0 to 8\n",
    "for layer_idx, layer in enumerate(model.blocks):\n",
    "    if layer_idx < 9:  # Freeze layers 1 to 11 (index 0 to 10)\n",
    "        for param in layer.parameters():\n",
    "            param.requires_grad = False\n",
    "    else:\n",
    "        # Ensure layers 9, 10, 11 remains trainable\n",
    "        for param in layer.parameters():\n",
    "            param.requires_grad = True\n",
    "\n",
    "# Confirm that only layer > 9's parameters are trainable\n",
    "for name, param in model.named_parameters():\n",
    "    print(f\"{name}: {'Trainable' if param.requires_grad else 'Frozen'}\")\n",
    "\n",
    "# Update Optimizer: Only trainable parameters\n",
    "optimizer = torch.optim.AdamW(model.parameters(), lr=1e-4, weight_decay=1e-4)\n",
    "criterion = torch.nn.CrossEntropyLoss()\n",
    "#scheduler = torch.optim.lr_scheduler.ReduceLROnPlateau(optimizer, 'min', patience=3, factor=0.5)"
   ]
  },
  {
   "cell_type": "code",
   "execution_count": null,
   "id": "cb1204b0-60b9-44e9-83f2-f84c20398652",
   "metadata": {},
   "outputs": [],
   "source": [
    "%%time\n",
    "NUM_EPOCHS = 20\n",
    "\n",
    "best_val_loss = float('inf')\n",
    "patience = 5\n",
    "counter = 0\n",
    "\n",
    "train_losses = []\n",
    "val_losses = []\n",
    "train_accuracies = []\n",
    "val_accuracies = []\n",
    "\n",
    "for epoch in range(NUM_EPOCHS):\n",
    "    # Training Phase\n",
    "    model.train()\n",
    "    total_loss = 0\n",
    "    correct_train = 0\n",
    "    total_train = 0\n",
    "\n",
    "    for batch in train_loader:\n",
    "        inputs, labels = batch\n",
    "        inputs, labels = inputs.to(device), labels.to(device)\n",
    "\n",
    "        # Forward pass\n",
    "        cls_logits, dist_logits = model(inputs)\n",
    "        logits = (cls_logits + dist_logits) / 2\n",
    "        loss = criterion(logits, labels)\n",
    "\n",
    "        # Backward Pass\n",
    "        optimizer.zero_grad()\n",
    "        loss.backward()\n",
    "        optimizer.step()\n",
    "\n",
    "        total_loss += loss.item()\n",
    "        _, predicted = torch.max(logits, 1)\n",
    "        correct_train += (predicted == labels).sum().item()\n",
    "        total_train += labels.size(0)\n",
    "\n",
    "    train_losses.append(total_loss / len(train_loader))\n",
    "    train_accuracies.append(100 * correct_train / total_train)\n",
    "    print(f\"Epoch {epoch + 1}/{NUM_EPOCHS}, Training Loss: {train_losses[-1]:.4f}, Training Accuracy: {train_accuracies[-1]:.2f}%\")\n",
    "\n",
    "    # Validation Phase\n",
    "    model.eval()\n",
    "    val_loss = 0\n",
    "    correct_val = 0\n",
    "    total_val = 0\n",
    "    val_labels = []\n",
    "    val_preds = []\n",
    "\n",
    "    with torch.no_grad():\n",
    "        for batch in val_loader:\n",
    "            inputs, labels = batch\n",
    "            inputs, labels = inputs.to(device), labels.to(device)\n",
    "\n",
    "            outputs = model(inputs)  # Single output during validation\n",
    "        \n",
    "            # Handle both cases:\n",
    "            if isinstance(outputs, tuple):  # Training-style dual outputs\n",
    "                cls_logits, dist_logits = outputs\n",
    "                logits = (cls_logits + dist_logits) / 2\n",
    "            else:  # Single output during validation\n",
    "                logits = outputs\n",
    "                \n",
    "            loss = criterion(logits, labels)\n",
    "            val_loss += loss.item()\n",
    "\n",
    "            _, predicted = torch.max(logits, 1)\n",
    "            correct_val += (predicted == labels).sum().item()\n",
    "            total_val += labels.size(0)\n",
    "\n",
    "            val_labels.extend(labels.cpu().numpy())\n",
    "            val_preds.extend(predicted.cpu().numpy())\n",
    "            \n",
    "    avg_val_loss = val_loss / len(val_loader)\n",
    "    val_losses.append(avg_val_loss)\n",
    "    val_accuracies.append(100 * correct_val / total_val)\n",
    "    #scheduler.step(avg_val_loss)\n",
    "    \n",
    "    print(f\"Validation Loss: {val_losses[-1]:.4f}, Validation Accuracy: {val_accuracies[-1]:.2f}%\")\n",
    "    # Save best model\n",
    "    if avg_val_loss < best_val_loss:\n",
    "        best_val_loss = avg_val_loss\n",
    "        torch.save(model.state_dict(), \"Deit_faceRes_base_distilled.pth\")\n",
    "        print('The best model was saved.')\n",
    "    else:\n",
    "        counter += 1\n",
    "        if counter >= patience:\n",
    "            print(\"Early stopping\")\n",
    "            break"
   ]
  },
  {
   "cell_type": "code",
   "execution_count": null,
   "id": "29c2b3f8-c98a-4f01-b524-88fa61a85142",
   "metadata": {},
   "outputs": [],
   "source": [
    "# Plot Training and Validation Loss/Accuracy\n",
    "epochs = range(1, 16 + 1)\n",
    "\n",
    "plt.figure(figsize=(12, 6))\n",
    "# Loss Plot\n",
    "plt.subplot(1, 2, 1)\n",
    "plt.plot(epochs, train_losses, label=\"Training Loss\", marker=\"o\")\n",
    "plt.plot(epochs, val_losses, label=\"Validation Loss\", marker=\"o\")\n",
    "plt.title(\"Training and Validation Loss\")\n",
    "plt.xlabel(\"Epochs\")\n",
    "plt.ylabel(\"Loss\")\n",
    "plt.legend()\n",
    "\n",
    "# Accuracy Plot\n",
    "plt.subplot(1, 2, 2)\n",
    "plt.plot(epochs, train_accuracies, label=\"Training Accuracy\", marker=\"o\")\n",
    "plt.plot(epochs, val_accuracies, label=\"Validation Accuracy\", marker=\"o\")\n",
    "plt.title(\"Training and Validation Accuracy\")\n",
    "plt.xlabel(\"Epochs\")\n",
    "plt.ylabel(\"Accuracy (%)\")\n",
    "plt.legend()\n",
    "\n",
    "plt.tight_layout()\n",
    "plt.show()\n",
    "\n",
    "print(\"Fine-tuning complete!\")"
   ]
  },
  {
   "cell_type": "code",
   "execution_count": 14,
   "id": "bb20ed88-1d72-42a1-a607-77068aa1d8ac",
   "metadata": {},
   "outputs": [
    {
     "name": "stderr",
     "output_type": "stream",
     "text": [
      "/tmp/ipykernel_5336/1218333698.py:2: FutureWarning: You are using `torch.load` with `weights_only=False` (the current default value), which uses the default pickle module implicitly. It is possible to construct malicious pickle data which will execute arbitrary code during unpickling (See https://github.com/pytorch/pytorch/blob/main/SECURITY.md#untrusted-models for more details). In a future release, the default value for `weights_only` will be flipped to `True`. This limits the functions that could be executed during unpickling. Arbitrary objects will no longer be allowed to be loaded via this mode unless they are explicitly allowlisted by the user via `torch.serialization.add_safe_globals`. We recommend you start setting `weights_only=True` for any use case where you don't have full control of the loaded file. Please open an issue on GitHub for any issues related to this experimental feature.\n",
      "  model.load_state_dict(torch.load(\"Deit_faceRes_base_distilled.pth\"))\n"
     ]
    },
    {
     "data": {
      "text/plain": [
       "<All keys matched successfully>"
      ]
     },
     "execution_count": 14,
     "metadata": {},
     "output_type": "execute_result"
    }
   ],
   "source": [
    "#To load the saved weights into the model architecture:\n",
    "model.load_state_dict(torch.load(\"Deit_faceRes_base_distilled.pth\")) "
   ]
  },
  {
   "cell_type": "code",
   "execution_count": 15,
   "id": "9cf723ce-2ed1-4624-b353-c767b6a7b9a5",
   "metadata": {},
   "outputs": [],
   "source": [
    "def test_model(model, loader):\n",
    "    model.eval()\n",
    "    acc = 0.\n",
    "    y_test, y_prediction = [], []\n",
    "\n",
    "    with torch.no_grad():\n",
    "        for images, labels in loader:\n",
    "            images, labels = images.to(device), labels.to(device)\n",
    "\n",
    "            # Forward pass\n",
    "            outputs = model(images)  # Returns an ImageClassifierOutput object\n",
    "            logits = outputs  # Extract logits\n",
    "\n",
    "            # Get predictions\n",
    "            pred = logits.argmax(dim=1)\n",
    "            acc += (pred == labels).sum().item()\n",
    "\n",
    "            y_test.extend(labels.cpu().numpy())\n",
    "            y_prediction.extend(pred.cpu().numpy())\n",
    "\n",
    "    size = len(loader.dataset)\n",
    "    acc = 100 * acc / size\n",
    "    print(f'Test accuracy on {size} test samples is {acc:.2f}%')\n",
    "\n",
    "    return y_test, y_prediction"
   ]
  },
  {
   "cell_type": "code",
   "execution_count": 16,
   "id": "29bb5d73-d6ff-4ac1-841d-d3c5275a0803",
   "metadata": {},
   "outputs": [],
   "source": [
    "class_names = {0: 'AA', 1: 'AI', 2: 'IA', 3: 'II'}\n",
    "kept_classes = [0, 1, 2, 3]"
   ]
  },
  {
   "cell_type": "code",
   "execution_count": 17,
   "id": "74830b63-02bc-4491-b3e8-7dc26b71b0a0",
   "metadata": {},
   "outputs": [],
   "source": [
    "def plot_confusion_matrix(y_true, y_pred, class_names, kept_classes):\n",
    "    dim = len(kept_classes)\n",
    "    labels = [class_names[i] for i in kept_classes]\n",
    "    # Plot the confusion matrix\n",
    "    conf_mat = confusion_matrix(y_true, y_pred)\n",
    "    norm_conf_mat = conf_mat / np.sum(conf_mat, axis=1)\n",
    "    # plot the matrix\n",
    "    fig, ax = plt.subplots()\n",
    "    plt.imshow(norm_conf_mat)\n",
    "    plt.title('Confusion Matrix')\n",
    "    plt.xlabel('Predictions')\n",
    "    plt.ylabel('Labels')\n",
    "    plt.xticks(range(dim), labels, rotation=45)\n",
    "    plt.yticks(range(dim), labels)\n",
    "    plt.colorbar()\n",
    "    # Put number of each cell in plot\n",
    "    for i in range(dim):\n",
    "        for j in range(dim):\n",
    "            c = conf_mat[j, i]\n",
    "            color = 'black' if c > 500 else 'white'\n",
    "            ax.text(i, j, str(int(c)), va='center', ha='center', color=color)\n",
    "    plt.show()"
   ]
  },
  {
   "cell_type": "code",
   "execution_count": 18,
   "id": "286d293c-488c-4a37-ad94-0f9bdfef46d7",
   "metadata": {},
   "outputs": [
    {
     "name": "stdout",
     "output_type": "stream",
     "text": [
      "Test accuracy on 350 test samples is 78.57%\n"
     ]
    },
    {
     "data": {
      "image/png": "[encoded data removed]",
      "text/plain": [
       "<Figure size 640x480 with 2 Axes>"
      ]
     },
     "metadata": {},
     "output_type": "display_data"
    }
   ],
   "source": [
    "# Test the model\n",
    "y_test, y_pred = test_model(model, test_loader)\n",
    "\n",
    "# Plot the confusion matrix\n",
    "plot_confusion_matrix(y_test, y_pred, class_names, kept_classes)"
   ]
  },
  {
   "cell_type": "code",
   "execution_count": 19,
   "id": "a186fd1f-15b3-4b7e-b03d-e3a52ea03f39",
   "metadata": {},
   "outputs": [
    {
     "name": "stdout",
     "output_type": "stream",
     "text": [
      "              precision    recall  f1-score   support\n",
      "\n",
      "          AA       0.77      0.88      0.82        81\n",
      "          AI       0.71      0.71      0.71        72\n",
      "          IA       0.83      0.48      0.61        42\n",
      "          II       0.82      0.86      0.84       155\n",
      "\n",
      "    accuracy                           0.79       350\n",
      "   macro avg       0.78      0.73      0.74       350\n",
      "weighted avg       0.79      0.79      0.78       350\n",
      "\n"
     ]
    }
   ],
   "source": [
    "print(classification_report(y_test, y_pred, target_names=dataset.classes))"
   ]
  }
 ],
 "metadata": {
  "kernelspec": {
   "display_name": "Python 3 (ipykernel)",
   "language": "python",
   "name": "python3"
  },
  "language_info": {
   "codemirror_mode": {
    "name": "ipython",
    "version": 3
   },
   "file_extension": ".py",
   "mimetype": "text/x-python",
   "name": "python",
   "nbconvert_exporter": "python",
   "pygments_lexer": "ipython3",
   "version": "3.12.2"
  }
 },
 "nbformat": 4,
 "nbformat_minor": 5
}
