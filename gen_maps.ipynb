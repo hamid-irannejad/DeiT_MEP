{
 "cells": [
  {
   "cell_type": "code",
   "execution_count": 1,
   "id": "e1fc1695-901d-4856-ad0f-7cedefc069fa",
   "metadata": {},
   "outputs": [],
   "source": [
    "# This notebook is for generating molecular electrostatic maps of each molecule and moving it to its class directory."
   ]
  },
  {
   "cell_type": "code",
   "execution_count": 2,
   "id": "321f8a5c-77f0-4d5c-9dd7-56c314ce3f3c",
   "metadata": {
    "editable": true,
    "slideshow": {
     "slide_type": ""
    },
    "tags": []
   },
   "outputs": [],
   "source": [
    "from rdkit import Chem\n",
    "from rdkit.Chem import AllChem\n",
    "from rdkit.Chem.Draw import SimilarityMaps\n",
    "import pandas as pd\n",
    "import numpy as np\n",
    "import matplotlib.pyplot as plt \n",
    "from sklearn.preprocessing import LabelEncoder\n",
    "import os\n",
    "import numpy as np\n",
    "from PIL import Image\n",
    "import shutil"
   ]
  },
  {
   "cell_type": "code",
   "execution_count": 4,
   "id": "89bb6e27-2091-401b-807d-3dd7b133ea4d",
   "metadata": {},
   "outputs": [
    {
     "data": {
      "text/html": [
       "<div>\n",
       "<style scoped>\n",
       "    .dataframe tbody tr th:only-of-type {\n",
       "        vertical-align: middle;\n",
       "    }\n",
       "\n",
       "    .dataframe tbody tr th {\n",
       "        vertical-align: top;\n",
       "    }\n",
       "\n",
       "    .dataframe thead th {\n",
       "        text-align: right;\n",
       "    }\n",
       "</style>\n",
       "<table border=\"1\" class=\"dataframe\">\n",
       "  <thead>\n",
       "    <tr style=\"text-align: right;\">\n",
       "      <th></th>\n",
       "      <th>CHEMBLID</th>\n",
       "      <th>smiles</th>\n",
       "      <th>ido_ic50</th>\n",
       "      <th>tdo_ic50</th>\n",
       "    </tr>\n",
       "  </thead>\n",
       "  <tbody>\n",
       "    <tr>\n",
       "      <th>0</th>\n",
       "      <td>CHEMBL1098875</td>\n",
       "      <td>O=C1c2cc(F)ccc2-n2c1nc1ccccc1c2=O</td>\n",
       "      <td>7.638272</td>\n",
       "      <td>7.221849</td>\n",
       "    </tr>\n",
       "    <tr>\n",
       "      <th>1</th>\n",
       "      <td>CHEMBL1209728</td>\n",
       "      <td>Cc1c(Br)oc2c1C(=O)C(=O)c1c-2ccc2c1CCCC2(C)C</td>\n",
       "      <td>5.000000</td>\n",
       "      <td>5.000000</td>\n",
       "    </tr>\n",
       "    <tr>\n",
       "      <th>2</th>\n",
       "      <td>CHEMBL1276265</td>\n",
       "      <td>O=C1c2ccc(Cl)cc2-n2c1nc1ccccc1c2=O</td>\n",
       "      <td>6.737549</td>\n",
       "      <td>3.649364</td>\n",
       "    </tr>\n",
       "    <tr>\n",
       "      <th>3</th>\n",
       "      <td>CHEMBL1346056</td>\n",
       "      <td>Oc1ccccc1-c1nc2c3ccccc3c3ccccc3c2[nH]1</td>\n",
       "      <td>4.928486</td>\n",
       "      <td>4.911864</td>\n",
       "    </tr>\n",
       "    <tr>\n",
       "      <th>4</th>\n",
       "      <td>CHEMBL139935</td>\n",
       "      <td>O=[N+]([O-])c1cc(F)c2cccnc2c1O</td>\n",
       "      <td>4.835350</td>\n",
       "      <td>4.519562</td>\n",
       "    </tr>\n",
       "    <tr>\n",
       "      <th>...</th>\n",
       "      <td>...</td>\n",
       "      <td>...</td>\n",
       "      <td>...</td>\n",
       "      <td>...</td>\n",
       "    </tr>\n",
       "    <tr>\n",
       "      <th>755</th>\n",
       "      <td>CHEMBL5221020</td>\n",
       "      <td>O[C@@H]1CCCC[C@H]1CNc1c(Br)ccc2[nH]ncc12</td>\n",
       "      <td>5.910095</td>\n",
       "      <td>4.949234</td>\n",
       "    </tr>\n",
       "    <tr>\n",
       "      <th>756</th>\n",
       "      <td>CHEMBL5221102</td>\n",
       "      <td>Brc1cc(NC[C@H]2CCCN2)c2cn[nH]c2c1</td>\n",
       "      <td>4.248336</td>\n",
       "      <td>5.127844</td>\n",
       "    </tr>\n",
       "    <tr>\n",
       "      <th>757</th>\n",
       "      <td>CHEMBL578036</td>\n",
       "      <td>CC1(C)CCCc2c1ccc1c2C(=O)C(=O)c2c(CO)coc2-1</td>\n",
       "      <td>5.000000</td>\n",
       "      <td>6.346787</td>\n",
       "    </tr>\n",
       "    <tr>\n",
       "      <th>758</th>\n",
       "      <td>CHEMBL584991</td>\n",
       "      <td>Nc1nonc1/C(=N/O)Nc1ccc(F)c(Cl)c1</td>\n",
       "      <td>7.301030</td>\n",
       "      <td>5.000000</td>\n",
       "    </tr>\n",
       "    <tr>\n",
       "      <th>759</th>\n",
       "      <td>CHEMBL72165</td>\n",
       "      <td>O=C1c2cc(Br)ccc2-n2c1nc1ccccc1c2=O</td>\n",
       "      <td>7.268411</td>\n",
       "      <td>7.275724</td>\n",
       "    </tr>\n",
       "  </tbody>\n",
       "</table>\n",
       "<p>760 rows × 4 columns</p>\n",
       "</div>"
      ],
      "text/plain": [
       "          CHEMBLID                                       smiles  ido_ic50  \\\n",
       "0    CHEMBL1098875            O=C1c2cc(F)ccc2-n2c1nc1ccccc1c2=O  7.638272   \n",
       "1    CHEMBL1209728  Cc1c(Br)oc2c1C(=O)C(=O)c1c-2ccc2c1CCCC2(C)C  5.000000   \n",
       "2    CHEMBL1276265           O=C1c2ccc(Cl)cc2-n2c1nc1ccccc1c2=O  6.737549   \n",
       "3    CHEMBL1346056       Oc1ccccc1-c1nc2c3ccccc3c3ccccc3c2[nH]1  4.928486   \n",
       "4     CHEMBL139935               O=[N+]([O-])c1cc(F)c2cccnc2c1O  4.835350   \n",
       "..             ...                                          ...       ...   \n",
       "755  CHEMBL5221020     O[C@@H]1CCCC[C@H]1CNc1c(Br)ccc2[nH]ncc12  5.910095   \n",
       "756  CHEMBL5221102            Brc1cc(NC[C@H]2CCCN2)c2cn[nH]c2c1  4.248336   \n",
       "757   CHEMBL578036   CC1(C)CCCc2c1ccc1c2C(=O)C(=O)c2c(CO)coc2-1  5.000000   \n",
       "758   CHEMBL584991             Nc1nonc1/C(=N/O)Nc1ccc(F)c(Cl)c1  7.301030   \n",
       "759    CHEMBL72165           O=C1c2cc(Br)ccc2-n2c1nc1ccccc1c2=O  7.268411   \n",
       "\n",
       "     tdo_ic50  \n",
       "0    7.221849  \n",
       "1    5.000000  \n",
       "2    3.649364  \n",
       "3    4.911864  \n",
       "4    4.519562  \n",
       "..        ...  \n",
       "755  4.949234  \n",
       "756  5.127844  \n",
       "757  6.346787  \n",
       "758  5.000000  \n",
       "759  7.275724  \n",
       "\n",
       "[760 rows x 4 columns]"
      ]
     },
     "execution_count": 4,
     "metadata": {},
     "output_type": "execute_result"
    }
   ],
   "source": [
    "# Change the path according to your directory.\n",
    "df1 = pd.read_csv('final_total', sep=' ', na_values=['na'])\n",
    "df1 = df1.dropna(ignore_index=True)\n",
    "df1.loc[:, 'ido_ic50'] = (np.log10((df1.loc[:, 'ido_ic50'])*10**(-9)))*(-1)\n",
    "df1.loc[:, 'tdo_ic50'] = (np.log10((df1.loc[:, 'tdo_ic50'])*10**(-9)))*(-1)\n",
    "df1"
   ]
  },
  {
   "cell_type": "code",
   "execution_count": 5,
   "id": "1cf119a2-1132-47fa-9a3d-765bdcf403c2",
   "metadata": {},
   "outputs": [
    {
     "data": {
      "text/html": [
       "<div>\n",
       "<style scoped>\n",
       "    .dataframe tbody tr th:only-of-type {\n",
       "        vertical-align: middle;\n",
       "    }\n",
       "\n",
       "    .dataframe tbody tr th {\n",
       "        vertical-align: top;\n",
       "    }\n",
       "\n",
       "    .dataframe thead th {\n",
       "        text-align: right;\n",
       "    }\n",
       "</style>\n",
       "<table border=\"1\" class=\"dataframe\">\n",
       "  <thead>\n",
       "    <tr style=\"text-align: right;\">\n",
       "      <th></th>\n",
       "      <th>ido_ic50</th>\n",
       "      <th>tdo_ic50</th>\n",
       "    </tr>\n",
       "  </thead>\n",
       "  <tbody>\n",
       "    <tr>\n",
       "      <th>0</th>\n",
       "      <td>7.638272</td>\n",
       "      <td>7.221849</td>\n",
       "    </tr>\n",
       "    <tr>\n",
       "      <th>1</th>\n",
       "      <td>5.000000</td>\n",
       "      <td>5.000000</td>\n",
       "    </tr>\n",
       "    <tr>\n",
       "      <th>2</th>\n",
       "      <td>6.737549</td>\n",
       "      <td>3.649364</td>\n",
       "    </tr>\n",
       "    <tr>\n",
       "      <th>3</th>\n",
       "      <td>4.928486</td>\n",
       "      <td>4.911864</td>\n",
       "    </tr>\n",
       "    <tr>\n",
       "      <th>4</th>\n",
       "      <td>4.835350</td>\n",
       "      <td>4.519562</td>\n",
       "    </tr>\n",
       "    <tr>\n",
       "      <th>...</th>\n",
       "      <td>...</td>\n",
       "      <td>...</td>\n",
       "    </tr>\n",
       "    <tr>\n",
       "      <th>755</th>\n",
       "      <td>5.910095</td>\n",
       "      <td>4.949234</td>\n",
       "    </tr>\n",
       "    <tr>\n",
       "      <th>756</th>\n",
       "      <td>4.248336</td>\n",
       "      <td>5.127844</td>\n",
       "    </tr>\n",
       "    <tr>\n",
       "      <th>757</th>\n",
       "      <td>5.000000</td>\n",
       "      <td>6.346787</td>\n",
       "    </tr>\n",
       "    <tr>\n",
       "      <th>758</th>\n",
       "      <td>7.301030</td>\n",
       "      <td>5.000000</td>\n",
       "    </tr>\n",
       "    <tr>\n",
       "      <th>759</th>\n",
       "      <td>7.268411</td>\n",
       "      <td>7.275724</td>\n",
       "    </tr>\n",
       "  </tbody>\n",
       "</table>\n",
       "<p>760 rows × 2 columns</p>\n",
       "</div>"
      ],
      "text/plain": [
       "     ido_ic50  tdo_ic50\n",
       "0    7.638272  7.221849\n",
       "1    5.000000  5.000000\n",
       "2    6.737549  3.649364\n",
       "3    4.928486  4.911864\n",
       "4    4.835350  4.519562\n",
       "..        ...       ...\n",
       "755  5.910095  4.949234\n",
       "756  4.248336  5.127844\n",
       "757  5.000000  6.346787\n",
       "758  7.301030  5.000000\n",
       "759  7.268411  7.275724\n",
       "\n",
       "[760 rows x 2 columns]"
      ]
     },
     "execution_count": 5,
     "metadata": {},
     "output_type": "execute_result"
    }
   ],
   "source": [
    "df2 = df1.loc[:, ['ido_ic50', 'tdo_ic50']]\n",
    "df2"
   ]
  },
  {
   "cell_type": "code",
   "execution_count": 6,
   "id": "ca79f6b1-d3d7-48ef-ab80-85ae5876d0df",
   "metadata": {},
   "outputs": [
    {
     "name": "stdout",
     "output_type": "stream",
     "text": [
      "379\n"
     ]
    }
   ],
   "source": [
    "n = 0\n",
    "for i in range(len(df2)):\n",
    "    if df2['ido_ic50'].values[i] >= 6.15:\n",
    "        n += 1\n",
    "print(n)"
   ]
  },
  {
   "cell_type": "code",
   "execution_count": 7,
   "id": "2a1e2a8b-b4fc-4461-b0dd-24057633b85f",
   "metadata": {},
   "outputs": [
    {
     "name": "stdout",
     "output_type": "stream",
     "text": [
      "288\n"
     ]
    }
   ],
   "source": [
    "n = 0\n",
    "for i in range(len(df2)):\n",
    "    if df2['tdo_ic50'].values[i] >= 6:\n",
    "        n += 1\n",
    "print(n)"
   ]
  },
  {
   "cell_type": "code",
   "execution_count": 8,
   "id": "12d6d67c-114d-4814-985c-3503d2545be6",
   "metadata": {},
   "outputs": [],
   "source": [
    "for i in range(len(df2)):\n",
    "    if df2['ido_ic50'].values[i] >= 6.15:\n",
    "        df2.loc[i, ['ido_ic50']] = 1\n",
    "    else:\n",
    "        df2.loc[i, ['ido_ic50']] = 0"
   ]
  },
  {
   "cell_type": "code",
   "execution_count": 9,
   "id": "987d0831-a564-4d1d-861e-2316b69d051b",
   "metadata": {},
   "outputs": [],
   "source": [
    "for i in range(len(df2)):\n",
    "    if df2['tdo_ic50'].values[i] >= 6.0:\n",
    "        df2.loc[i, ['tdo_ic50']] = 1\n",
    "    else:\n",
    "        df2.loc[i, ['tdo_ic50']] = 0"
   ]
  },
  {
   "cell_type": "code",
   "execution_count": 10,
   "id": "ff59c6b8-aefc-4444-bc5a-3975eb1ba4a3",
   "metadata": {},
   "outputs": [
    {
     "data": {
      "text/html": [
       "<div>\n",
       "<style scoped>\n",
       "    .dataframe tbody tr th:only-of-type {\n",
       "        vertical-align: middle;\n",
       "    }\n",
       "\n",
       "    .dataframe tbody tr th {\n",
       "        vertical-align: top;\n",
       "    }\n",
       "\n",
       "    .dataframe thead th {\n",
       "        text-align: right;\n",
       "    }\n",
       "</style>\n",
       "<table border=\"1\" class=\"dataframe\">\n",
       "  <thead>\n",
       "    <tr style=\"text-align: right;\">\n",
       "      <th></th>\n",
       "      <th>ido_ic50</th>\n",
       "      <th>tdo_ic50</th>\n",
       "    </tr>\n",
       "  </thead>\n",
       "  <tbody>\n",
       "    <tr>\n",
       "      <th>0</th>\n",
       "      <td>1.0</td>\n",
       "      <td>1.0</td>\n",
       "    </tr>\n",
       "    <tr>\n",
       "      <th>1</th>\n",
       "      <td>0.0</td>\n",
       "      <td>0.0</td>\n",
       "    </tr>\n",
       "    <tr>\n",
       "      <th>2</th>\n",
       "      <td>1.0</td>\n",
       "      <td>0.0</td>\n",
       "    </tr>\n",
       "    <tr>\n",
       "      <th>3</th>\n",
       "      <td>0.0</td>\n",
       "      <td>0.0</td>\n",
       "    </tr>\n",
       "    <tr>\n",
       "      <th>4</th>\n",
       "      <td>0.0</td>\n",
       "      <td>0.0</td>\n",
       "    </tr>\n",
       "    <tr>\n",
       "      <th>...</th>\n",
       "      <td>...</td>\n",
       "      <td>...</td>\n",
       "    </tr>\n",
       "    <tr>\n",
       "      <th>755</th>\n",
       "      <td>0.0</td>\n",
       "      <td>0.0</td>\n",
       "    </tr>\n",
       "    <tr>\n",
       "      <th>756</th>\n",
       "      <td>0.0</td>\n",
       "      <td>0.0</td>\n",
       "    </tr>\n",
       "    <tr>\n",
       "      <th>757</th>\n",
       "      <td>0.0</td>\n",
       "      <td>1.0</td>\n",
       "    </tr>\n",
       "    <tr>\n",
       "      <th>758</th>\n",
       "      <td>1.0</td>\n",
       "      <td>0.0</td>\n",
       "    </tr>\n",
       "    <tr>\n",
       "      <th>759</th>\n",
       "      <td>1.0</td>\n",
       "      <td>1.0</td>\n",
       "    </tr>\n",
       "  </tbody>\n",
       "</table>\n",
       "<p>760 rows × 2 columns</p>\n",
       "</div>"
      ],
      "text/plain": [
       "     ido_ic50  tdo_ic50\n",
       "0         1.0       1.0\n",
       "1         0.0       0.0\n",
       "2         1.0       0.0\n",
       "3         0.0       0.0\n",
       "4         0.0       0.0\n",
       "..        ...       ...\n",
       "755       0.0       0.0\n",
       "756       0.0       0.0\n",
       "757       0.0       1.0\n",
       "758       1.0       0.0\n",
       "759       1.0       1.0\n",
       "\n",
       "[760 rows x 2 columns]"
      ]
     },
     "execution_count": 10,
     "metadata": {},
     "output_type": "execute_result"
    }
   ],
   "source": [
    "df2"
   ]
  },
  {
   "cell_type": "code",
   "execution_count": 11,
   "id": "0780018b-6360-4fef-8835-0584628aae9a",
   "metadata": {},
   "outputs": [],
   "source": [
    "newcol = []\n",
    "for i in range(len(df2)):\n",
    "    if df2['ido_ic50'].values[i] == 1.0 and df2['tdo_ic50'].values[i] == 1.0:\n",
    "        newcol.append('AA')\n",
    "    elif df2['ido_ic50'].values[i] == 0.0 and df2['tdo_ic50'].values[i] == 0.0:\n",
    "        newcol.append('II')\n",
    "    elif df2['ido_ic50'].values[i] == 0.0 and df2['tdo_ic50'].values[i] == 1.0:\n",
    "        newcol.append('IA')\n",
    "    else:\n",
    "        newcol.append('AI')"
   ]
  },
  {
   "cell_type": "code",
   "execution_count": 12,
   "id": "1cb055bf-7606-45ca-88a3-6b7b5f687a72",
   "metadata": {},
   "outputs": [
    {
     "data": {
      "text/html": [
       "<div>\n",
       "<style scoped>\n",
       "    .dataframe tbody tr th:only-of-type {\n",
       "        vertical-align: middle;\n",
       "    }\n",
       "\n",
       "    .dataframe tbody tr th {\n",
       "        vertical-align: top;\n",
       "    }\n",
       "\n",
       "    .dataframe thead th {\n",
       "        text-align: right;\n",
       "    }\n",
       "</style>\n",
       "<table border=\"1\" class=\"dataframe\">\n",
       "  <thead>\n",
       "    <tr style=\"text-align: right;\">\n",
       "      <th></th>\n",
       "      <th>ido_tdo</th>\n",
       "    </tr>\n",
       "  </thead>\n",
       "  <tbody>\n",
       "    <tr>\n",
       "      <th>0</th>\n",
       "      <td>AA</td>\n",
       "    </tr>\n",
       "    <tr>\n",
       "      <th>1</th>\n",
       "      <td>II</td>\n",
       "    </tr>\n",
       "    <tr>\n",
       "      <th>2</th>\n",
       "      <td>AI</td>\n",
       "    </tr>\n",
       "    <tr>\n",
       "      <th>3</th>\n",
       "      <td>II</td>\n",
       "    </tr>\n",
       "    <tr>\n",
       "      <th>4</th>\n",
       "      <td>II</td>\n",
       "    </tr>\n",
       "    <tr>\n",
       "      <th>...</th>\n",
       "      <td>...</td>\n",
       "    </tr>\n",
       "    <tr>\n",
       "      <th>755</th>\n",
       "      <td>II</td>\n",
       "    </tr>\n",
       "    <tr>\n",
       "      <th>756</th>\n",
       "      <td>II</td>\n",
       "    </tr>\n",
       "    <tr>\n",
       "      <th>757</th>\n",
       "      <td>IA</td>\n",
       "    </tr>\n",
       "    <tr>\n",
       "      <th>758</th>\n",
       "      <td>AI</td>\n",
       "    </tr>\n",
       "    <tr>\n",
       "      <th>759</th>\n",
       "      <td>AA</td>\n",
       "    </tr>\n",
       "  </tbody>\n",
       "</table>\n",
       "<p>760 rows × 1 columns</p>\n",
       "</div>"
      ],
      "text/plain": [
       "    ido_tdo\n",
       "0        AA\n",
       "1        II\n",
       "2        AI\n",
       "3        II\n",
       "4        II\n",
       "..      ...\n",
       "755      II\n",
       "756      II\n",
       "757      IA\n",
       "758      AI\n",
       "759      AA\n",
       "\n",
       "[760 rows x 1 columns]"
      ]
     },
     "execution_count": 12,
     "metadata": {},
     "output_type": "execute_result"
    }
   ],
   "source": [
    "target = pd.DataFrame(data=newcol, columns=['ido_tdo'])\n",
    "target"
   ]
  },
  {
   "cell_type": "code",
   "execution_count": 13,
   "id": "763244fc-8df4-4a0b-bbe0-eff1f942ab1f",
   "metadata": {},
   "outputs": [
    {
     "data": {
      "text/plain": [
       "(760,)"
      ]
     },
     "execution_count": 13,
     "metadata": {},
     "output_type": "execute_result"
    }
   ],
   "source": [
    "y = target.values.reshape(len(df2),)\n",
    "y.shape"
   ]
  },
  {
   "cell_type": "code",
   "execution_count": 14,
   "id": "3f4b8a99-b026-46fd-83a2-0b3a70fe4665",
   "metadata": {},
   "outputs": [],
   "source": [
    "encoder = LabelEncoder()"
   ]
  },
  {
   "cell_type": "code",
   "execution_count": 15,
   "id": "a97e961a-1afe-447d-8a8d-5224884fff5d",
   "metadata": {},
   "outputs": [],
   "source": [
    "y_label = encoder.fit_transform(y)"
   ]
  },
  {
   "cell_type": "code",
   "execution_count": 16,
   "id": "64d553b5-7cd9-4248-b211-3b320d2ba03b",
   "metadata": {},
   "outputs": [
    {
     "data": {
      "text/plain": [
       "array([0, 3, 1, 3, 3, 3, 2, 3, 3, 3, 2, 3, 1, 3, 3, 3, 3, 3, 3, 3, 3, 3,\n",
       "       3, 3, 3, 3, 3, 3, 3, 3, 3, 3, 3, 3, 3, 3, 3, 3, 3, 3, 3, 3, 3, 1,\n",
       "       3, 3, 3, 3, 3, 3, 3, 2, 2, 3, 0, 2, 3, 3, 1, 2, 1, 2, 3, 3, 2, 3,\n",
       "       3, 2, 2, 2, 2, 0, 2, 0, 2, 2, 2, 2, 2, 2, 2, 3, 1, 3, 3, 3, 1, 1,\n",
       "       1, 1, 1, 1, 1, 1, 1, 1, 1, 3, 1, 0, 1, 3, 1, 1, 1, 1, 1, 1, 1, 1,\n",
       "       3, 1, 1, 3, 1, 0, 0, 0, 0, 0, 0, 0, 0, 3, 0, 0, 2, 0, 1, 3, 0, 0,\n",
       "       1, 3, 0, 2, 1, 3, 3, 1, 0, 1, 0, 0, 0, 0, 1, 3, 1, 0, 0, 0, 1, 0,\n",
       "       3, 1, 0, 0, 1, 0, 2, 0, 0, 0, 1, 0, 0, 1, 1, 3, 0, 0, 3, 0, 0, 3,\n",
       "       0, 1, 2, 1, 0, 0, 0, 0, 2, 2, 1, 0, 1, 0, 3, 0, 0, 0, 0, 0, 3, 0,\n",
       "       0, 1, 1, 2, 0, 0, 0, 1, 0, 0, 3, 1, 1, 2, 0, 3, 3, 0, 0, 3, 0, 3,\n",
       "       0, 3, 3, 3, 0, 0, 0, 1, 1, 1, 1, 0, 2, 0, 3, 0, 0, 0, 1, 1, 1, 0,\n",
       "       1, 0, 0, 0, 3, 0, 3, 3, 3, 2, 2, 0, 1, 0, 2, 3, 0, 0, 1, 0, 0, 0,\n",
       "       3, 3, 0, 0, 3, 3, 1, 2, 3, 0, 3, 0, 2, 0, 1, 3, 1, 0, 0, 3, 3, 0,\n",
       "       0, 2, 1, 0, 3, 0, 3, 3, 0, 3, 3, 1, 1, 3, 3, 0, 1, 0, 0, 1, 3, 3,\n",
       "       1, 2, 0, 0, 1, 0, 3, 0, 3, 3, 3, 2, 0, 3, 1, 0, 3, 0, 1, 2, 3, 1,\n",
       "       1, 2, 1, 0, 1, 0, 2, 0, 0, 3, 0, 3, 1, 3, 2, 3, 0, 1, 1, 3, 3, 0,\n",
       "       0, 2, 2, 0, 3, 0, 1, 1, 3, 3, 3, 0, 1, 0, 2, 3, 0, 3, 3, 0, 3, 0,\n",
       "       0, 0, 1, 0, 1, 0, 0, 0, 3, 0, 3, 0, 1, 0, 0, 3, 2, 0, 2, 0, 3, 1,\n",
       "       3, 0, 3, 3, 3, 3, 0, 0, 3, 0, 3, 0, 1, 0, 3, 2, 3, 3, 3, 0, 0, 3,\n",
       "       0, 3, 3, 0, 3, 0, 0, 2, 3, 2, 3, 0, 0, 2, 2, 1, 3, 1, 1, 3, 3, 0,\n",
       "       3, 0, 0, 3, 2, 2, 2, 3, 3, 3, 0, 2, 1, 0, 3, 3, 0, 0, 0, 3, 2, 3,\n",
       "       0, 3, 3, 1, 1, 3, 0, 0, 0, 3, 3, 1, 2, 3, 0, 0, 3, 3, 3, 1, 2, 0,\n",
       "       0, 2, 2, 0, 0, 3, 1, 0, 0, 1, 1, 1, 3, 3, 1, 1, 1, 3, 3, 1, 1, 1,\n",
       "       3, 0, 1, 1, 0, 1, 1, 0, 3, 1, 1, 0, 3, 3, 0, 1, 1, 0, 3, 1, 1, 1,\n",
       "       3, 0, 1, 3, 1, 3, 3, 0, 1, 3, 0, 0, 1, 1, 3, 1, 1, 3, 0, 0, 1, 3,\n",
       "       1, 1, 1, 1, 1, 3, 3, 0, 3, 3, 1, 3, 1, 3, 3, 0, 3, 3, 0, 3, 1, 1,\n",
       "       3, 1, 0, 3, 0, 3, 3, 1, 1, 1, 0, 3, 1, 0, 1, 3, 1, 1, 1, 3, 1, 1,\n",
       "       0, 1, 1, 3, 1, 1, 1, 1, 0, 0, 1, 3, 3, 0, 3, 0, 0, 1, 1, 3, 3, 3,\n",
       "       3, 1, 0, 1, 1, 3, 1, 3, 1, 1, 1, 1, 1, 0, 3, 3, 1, 1, 1, 1, 1, 1,\n",
       "       3, 3, 3, 3, 3, 3, 0, 0, 3, 3, 3, 2, 0, 3, 3, 3, 3, 3, 3, 0, 3, 3,\n",
       "       3, 3, 3, 3, 3, 3, 3, 3, 3, 3, 3, 2, 3, 3, 3, 3, 3, 3, 3, 2, 3, 2,\n",
       "       3, 2, 3, 2, 3, 2, 3, 3, 3, 3, 3, 3, 3, 3, 3, 3, 0, 0, 3, 3, 3, 3,\n",
       "       3, 3, 2, 2, 3, 3, 2, 3, 3, 2, 3, 3, 2, 3, 3, 3, 3, 3, 0, 3, 0, 3,\n",
       "       3, 2, 3, 3, 3, 0, 0, 3, 2, 3, 2, 3, 0, 0, 3, 0, 2, 3, 3, 2, 3, 2,\n",
       "       3, 3, 3, 2, 3, 3, 3, 3, 3, 2, 1, 0])"
      ]
     },
     "execution_count": 16,
     "metadata": {},
     "output_type": "execute_result"
    }
   ],
   "source": [
    "y_label"
   ]
  },
  {
   "cell_type": "code",
   "execution_count": 17,
   "id": "8b6eb06e-ee30-46ab-bdc0-2c5aceb3b2d4",
   "metadata": {},
   "outputs": [],
   "source": [
    "from rdkit.Chem import SaltRemover as sr\n",
    "remover = sr.SaltRemover()"
   ]
  },
  {
   "cell_type": "code",
   "execution_count": 18,
   "id": "2bd12007-ee2c-4682-b95e-fecf96127af5",
   "metadata": {},
   "outputs": [
    {
     "data": {
      "text/plain": [
       "760"
      ]
     },
     "execution_count": 18,
     "metadata": {},
     "output_type": "execute_result"
    }
   ],
   "source": [
    "mols = []\n",
    "for i in range(len(df1)):\n",
    "    try:\n",
    "        mol_i = Chem.MolFromSmiles(df1['smiles'][i])\n",
    "        if mol_i is None:\n",
    "            print(f\"[WARNING] Invalid SMILES at index {i}, skipping.\")\n",
    "            mols.append(None)  # Maintain indexing for multiprocessing\n",
    "            continue\n",
    "        mol_i = remover.StripMol(mol_i, dontRemoveEverything=True)\n",
    "        mols.append(mol_i)\n",
    "    except Exception as e:\n",
    "        print(e)\n",
    "len(mols)"
   ]
  },
  {
   "cell_type": "code",
   "execution_count": 19,
   "id": "11b0e5e6-3b1a-428a-ab07-7fea755b5540",
   "metadata": {},
   "outputs": [],
   "source": [
    "xborder_size = 100\n",
    "yborder_size = 50\n",
    "def crop_image(image):\n",
    "    # Crop the image by removing 'border_size' pixels from all sides\n",
    "    return image[xborder_size:-xborder_size, yborder_size:-yborder_size]"
   ]
  },
  {
   "cell_type": "code",
   "execution_count": 20,
   "id": "ea9cdc09-d3a3-4268-a8c9-2150fc2fe6a7",
   "metadata": {},
   "outputs": [],
   "source": [
    "os.makedirs('./maps_git', exist_ok=True)\n",
    "os.chdir('./maps_git')\n",
    "os.makedirs('AA'), os.makedirs('AI'), os.makedirs('IA'), os.makedirs('II')\n",
    "\n",
    "for k in range(len(df1)):\n",
    "    try:\n",
    "        AllChem.ComputeGasteigerCharges(mols[k])\n",
    "        contribs = [mols[k].GetAtomWithIdx(i).GetDoubleProp('_GasteigerCharge') for i in range(mols[k].GetNumAtoms())]\n",
    "        fig = SimilarityMaps.GetSimilarityMapFromWeights(mols[k], contribs, colorMap='jet', contourLines=10)\n",
    "        fig.savefig(f\"fig_{k}\", bbox_inches='tight', pad_inches=0)\n",
    "        img = Image.open(f\"fig_{k}.png\").convert('RGB')\n",
    "        img = np.array(img)\n",
    "        img = Image.fromarray(crop_image(img))\n",
    "        img.save(f\"fig_{k}.png\")\n",
    "        plt.close()\n",
    "        if y_label[k] == 0:\n",
    "            shutil.move(f\"fig_{k}.png\", './AA')\n",
    "        elif y_label[k] == 1:\n",
    "            shutil.move(f\"fig_{k}.png\", './AI')\n",
    "        elif y_label[k] == 2:\n",
    "            shutil.move(f\"fig_{k}.png\", './IA')\n",
    "        elif y_label[k] == 3:\n",
    "            shutil.move(f\"fig_{k}.png\", './II')\n",
    "    except Exception as e:\n",
    "        print(e)\n",
    "        "
   ]
  },
  {
   "cell_type": "code",
   "execution_count": null,
   "id": "06f97c1b-c257-47fb-8cfb-e0e3d7329802",
   "metadata": {},
   "outputs": [],
   "source": []
  }
 ],
 "metadata": {
  "kernelspec": {
   "display_name": "Python 3 (ipykernel)",
   "language": "python",
   "name": "python3"
  },
  "language_info": {
   "codemirror_mode": {
    "name": "ipython",
    "version": 3
   },
   "file_extension": ".py",
   "mimetype": "text/x-python",
   "name": "python",
   "nbconvert_exporter": "python",
   "pygments_lexer": "ipython3",
   "version": "3.12.2"
  }
 },
 "nbformat": 4,
 "nbformat_minor": 5
}
